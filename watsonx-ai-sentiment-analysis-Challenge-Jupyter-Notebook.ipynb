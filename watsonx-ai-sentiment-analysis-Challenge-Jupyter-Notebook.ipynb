{
 "cells": [
  {
   "cell_type": "markdown",
   "metadata": {
    "collapsed": true,
    "jupyter": {
     "outputs_hidden": true
    }
   },
   "source": [
    "![image](https://raw.githubusercontent.com/IBM/watson-machine-learning-samples/master/cloud/notebooks/headers/watsonx-Prompt_Lab-Notebook.png)\n",
    "# Use Watsonx to analyze car rental customer satisfaction and offer recommendation."
   ]
  },
  {
   "cell_type": "markdown",
   "metadata": {},
   "source": [
    "**Note:** Please note that for the watsonx challenge, please run these notebooks in IBM Cloud and not on on your laptop/desktop."
   ]
  },
  {
   "cell_type": "markdown",
   "metadata": {},
   "source": [
    "This notebook contains the steps and code to demonstrate support of text sentiment analysis in Watsonx. It introduces commands for data retrieval, model testing and scoring.\n",
    "\n",
    "Some familiarity with Python is helpful. This notebook uses Python 3.10."
   ]
  },
  {
   "cell_type": "markdown",
   "metadata": {},
   "source": [
    "<a id=\"setup\"></a>\n",
    "## Set up the environment"
   ]
  },
  {
   "cell_type": "markdown",
   "metadata": {},
   "source": [
    "### Install and import the dependecies"
   ]
  },
  {
   "cell_type": "code",
   "execution_count": null,
   "metadata": {},
   "outputs": [],
   "source": [
    "# !pip install datasets | tail -n 1\n",
    "# !pip install scikit-learn | tail -n 1\n",
    "# !pip install ibm-watson-machine-learning==1.0.349 | tail -n 1"
   ]
  },
  {
   "cell_type": "markdown",
   "metadata": {},
   "source": [
    "**Note:** Please restart the notebook kernel to pick up proper version of packages installed above."
   ]
  },
  {
   "cell_type": "markdown",
   "metadata": {},
   "source": [
    "### Setup .env file"
   ]
  },
  {
   "cell_type": "code",
   "execution_count": null,
   "metadata": {},
   "outputs": [],
   "source": [
    "!echo \"PROJECT_ID=projectid\" > .env\n",
    "!echo \"apikey=my-api-key\" >> .env"
   ]
  },
  {
   "cell_type": "code",
   "execution_count": 1,
   "metadata": {},
   "outputs": [],
   "source": [
    "import os\n",
    "from dotenv import dotenv_values\n",
    "from pandas import read_csv"
   ]
  },
  {
   "cell_type": "code",
   "execution_count": 37,
   "metadata": {},
   "outputs": [
    {
     "name": "stdout",
     "output_type": "stream",
     "text": [
      "odict_keys(['PROJECT_ID', 'apikey'])\n"
     ]
    }
   ],
   "source": [
    "config=dotenv_values()\n",
    "print(config.keys())"
   ]
  },
  {
   "cell_type": "markdown",
   "metadata": {},
   "source": [
    "### Watsonx API connection\n",
    "This cell defines the credentials required to work with watsonx API for Foundation\n",
    "Model inferencing.\n",
    "\n",
    "**Action:** Provide the IBM Cloud user API key. Instructions have been provided to generate IBM Cloud API key. For details, see\n",
    "[documentation](https://cloud.ibm.com/docs/account?topic=account-userapikey&interface=ui)."
   ]
  },
  {
   "cell_type": "code",
   "execution_count": 128,
   "metadata": {},
   "outputs": [],
   "source": [
    "from ibm_cloud_sdk_core import IAMTokenManager\n",
    "from ibm_cloud_sdk_core.authenticators import IAMAuthenticator, BearerTokenAuthenticator\n",
    "import os, getpass\n",
    "\n",
    "access_token = IAMTokenManager(\n",
    "    apikey = config[\"apikey\"],\n",
    "    url = \"https://iam.cloud.ibm.com/identity/token\"\n",
    ").get_token()"
   ]
  },
  {
   "cell_type": "markdown",
   "metadata": {},
   "source": [
    "### Defining the project id\n",
    "The API requires project id that provides the context for the call. We will obtain the id from the project in which this notebook runs. When you run notebook on IBM Cloud, project in which it runs is saved as environment variable PROJECT_ID.\n",
    "\n",
    "**Hint**: You can find the `project_id` as follows. Open the prompt lab in watsonx.ai. At the very top of the UI, there will be `Projects / <project name> /`. Click on the `<project name>` link. Then get the `project_id` from Project's Manage tab (Project -> Manage -> General -> Details).\n"
   ]
  },
  {
   "cell_type": "code",
   "execution_count": 4,
   "metadata": {},
   "outputs": [],
   "source": [
    "try:\n",
    "    project_id = config[\"PROJECT_ID\"]\n",
    "except KeyError:\n",
    "    project_id = input(\"Please enter your project_id (hit enter): \")"
   ]
  },
  {
   "cell_type": "markdown",
   "metadata": {},
   "source": [
    "<a id=\"data\"></a>\n",
    "## Train/test data loading"
   ]
  },
  {
   "cell_type": "markdown",
   "metadata": {},
   "source": [
    "Load train and test datasets. At first, training dataset (`train_data`) should be used to work with the models to prepare and tune prompt. Then, test dataset (`test_data`) should be used to calculate the metrics score for selected model, defined prompts and parameters."
   ]
  },
  {
   "cell_type": "code",
   "execution_count": 5,
   "metadata": {},
   "outputs": [],
   "source": [
    "filename_test = 'data/test.csv'\n",
    "filename_train = 'data/train.csv'\n",
    "\n",
    "test_data = read_csv(filename_test)\n",
    "train_data = read_csv(filename_train)"
   ]
  },
  {
   "cell_type": "code",
   "execution_count": 6,
   "metadata": {},
   "outputs": [
    {
     "data": {
      "text/html": [
       "<div>\n",
       "<style scoped>\n",
       "    .dataframe tbody tr th:only-of-type {\n",
       "        vertical-align: middle;\n",
       "    }\n",
       "\n",
       "    .dataframe tbody tr th {\n",
       "        vertical-align: top;\n",
       "    }\n",
       "\n",
       "    .dataframe thead th {\n",
       "        text-align: right;\n",
       "    }\n",
       "</style>\n",
       "<table border=\"1\" class=\"dataframe\">\n",
       "  <thead>\n",
       "    <tr style=\"text-align: right;\">\n",
       "      <th></th>\n",
       "      <th>ID</th>\n",
       "      <th>Gender</th>\n",
       "      <th>Status</th>\n",
       "      <th>Children</th>\n",
       "      <th>Age</th>\n",
       "      <th>Customer_Status</th>\n",
       "      <th>Car_Owner</th>\n",
       "      <th>Customer_Service</th>\n",
       "      <th>Satisfaction</th>\n",
       "      <th>Business_Area</th>\n",
       "      <th>Action</th>\n",
       "    </tr>\n",
       "  </thead>\n",
       "  <tbody>\n",
       "    <tr>\n",
       "      <th>0</th>\n",
       "      <td>2944</td>\n",
       "      <td>Female</td>\n",
       "      <td>M</td>\n",
       "      <td>2</td>\n",
       "      <td>41.92</td>\n",
       "      <td>Active</td>\n",
       "      <td>No</td>\n",
       "      <td>Customer service was friendly and helpful.</td>\n",
       "      <td>1</td>\n",
       "      <td>Service: Knowledge</td>\n",
       "      <td>NaN</td>\n",
       "    </tr>\n",
       "    <tr>\n",
       "      <th>1</th>\n",
       "      <td>1119</td>\n",
       "      <td>Female</td>\n",
       "      <td>M</td>\n",
       "      <td>2</td>\n",
       "      <td>33.60</td>\n",
       "      <td>Active</td>\n",
       "      <td>Yes</td>\n",
       "      <td>Customer service was good at MSP airport and t...</td>\n",
       "      <td>1</td>\n",
       "      <td>Service: Knowledge</td>\n",
       "      <td>NaN</td>\n",
       "    </tr>\n",
       "    <tr>\n",
       "      <th>2</th>\n",
       "      <td>0</td>\n",
       "      <td>Male</td>\n",
       "      <td>M</td>\n",
       "      <td>0</td>\n",
       "      <td>51.00</td>\n",
       "      <td>Inactive</td>\n",
       "      <td>Yes</td>\n",
       "      <td>I do not  understand why I have to pay additio...</td>\n",
       "      <td>0</td>\n",
       "      <td>Product: Pricing and Billing</td>\n",
       "      <td>Premium features</td>\n",
       "    </tr>\n",
       "    <tr>\n",
       "      <th>3</th>\n",
       "      <td>1085</td>\n",
       "      <td>Female</td>\n",
       "      <td>S</td>\n",
       "      <td>2</td>\n",
       "      <td>42.00</td>\n",
       "      <td>Inactive</td>\n",
       "      <td>No</td>\n",
       "      <td>Based on the customer service personnel I enco...</td>\n",
       "      <td>0</td>\n",
       "      <td>Service: Attitude</td>\n",
       "      <td>On-demand pickup location</td>\n",
       "    </tr>\n",
       "    <tr>\n",
       "      <th>4</th>\n",
       "      <td>0</td>\n",
       "      <td>Female</td>\n",
       "      <td>M</td>\n",
       "      <td>2</td>\n",
       "      <td>44.10</td>\n",
       "      <td>Active</td>\n",
       "      <td>No</td>\n",
       "      <td>Provide more convenient car pickup from the ai...</td>\n",
       "      <td>0</td>\n",
       "      <td>Service: Orders/Contracts</td>\n",
       "      <td>On-demand pickup location</td>\n",
       "    </tr>\n",
       "  </tbody>\n",
       "</table>\n",
       "</div>"
      ],
      "text/plain": [
       "     ID  Gender Status  Children    Age Customer_Status Car_Owner  \\\n",
       "0  2944  Female      M         2  41.92          Active        No   \n",
       "1  1119  Female      M         2  33.60          Active       Yes   \n",
       "2     0    Male      M         0  51.00        Inactive       Yes   \n",
       "3  1085  Female      S         2  42.00        Inactive        No   \n",
       "4     0  Female      M         2  44.10          Active        No   \n",
       "\n",
       "                                    Customer_Service  Satisfaction  \\\n",
       "0         Customer service was friendly and helpful.             1   \n",
       "1  Customer service was good at MSP airport and t...             1   \n",
       "2  I do not  understand why I have to pay additio...             0   \n",
       "3  Based on the customer service personnel I enco...             0   \n",
       "4  Provide more convenient car pickup from the ai...             0   \n",
       "\n",
       "                  Business_Area                     Action  \n",
       "0            Service: Knowledge                        NaN  \n",
       "1            Service: Knowledge                        NaN  \n",
       "2  Product: Pricing and Billing           Premium features  \n",
       "3             Service: Attitude  On-demand pickup location  \n",
       "4     Service: Orders/Contracts  On-demand pickup location  "
      ]
     },
     "execution_count": 6,
     "metadata": {},
     "output_type": "execute_result"
    }
   ],
   "source": [
    "train_data.head()"
   ]
  },
  {
   "cell_type": "code",
   "execution_count": 7,
   "metadata": {},
   "outputs": [
    {
     "data": {
      "text/html": [
       "<div>\n",
       "<style scoped>\n",
       "    .dataframe tbody tr th:only-of-type {\n",
       "        vertical-align: middle;\n",
       "    }\n",
       "\n",
       "    .dataframe tbody tr th {\n",
       "        vertical-align: top;\n",
       "    }\n",
       "\n",
       "    .dataframe thead th {\n",
       "        text-align: right;\n",
       "    }\n",
       "</style>\n",
       "<table border=\"1\" class=\"dataframe\">\n",
       "  <thead>\n",
       "    <tr style=\"text-align: right;\">\n",
       "      <th></th>\n",
       "      <th>ID</th>\n",
       "      <th>Gender</th>\n",
       "      <th>Status</th>\n",
       "      <th>Children</th>\n",
       "      <th>Age</th>\n",
       "      <th>Customer_Status</th>\n",
       "      <th>Car_Owner</th>\n",
       "      <th>Customer_Service</th>\n",
       "      <th>Satisfaction</th>\n",
       "      <th>Business_Area</th>\n",
       "      <th>Action</th>\n",
       "    </tr>\n",
       "  </thead>\n",
       "  <tbody>\n",
       "    <tr>\n",
       "      <th>0</th>\n",
       "      <td>2771</td>\n",
       "      <td>Female</td>\n",
       "      <td>M</td>\n",
       "      <td>2</td>\n",
       "      <td>49.99</td>\n",
       "      <td>Inactive</td>\n",
       "      <td>No</td>\n",
       "      <td>last time I rented a car was at Manchester, NH...</td>\n",
       "      <td>0</td>\n",
       "      <td>Product: Functioning</td>\n",
       "      <td>On-demand pickup location</td>\n",
       "    </tr>\n",
       "    <tr>\n",
       "      <th>1</th>\n",
       "      <td>1133</td>\n",
       "      <td>Male</td>\n",
       "      <td>S</td>\n",
       "      <td>1</td>\n",
       "      <td>56.05</td>\n",
       "      <td>Inactive</td>\n",
       "      <td>No</td>\n",
       "      <td>Please lower the prices.</td>\n",
       "      <td>0</td>\n",
       "      <td>Product: Pricing and Billing</td>\n",
       "      <td>Free Upgrade</td>\n",
       "    </tr>\n",
       "    <tr>\n",
       "      <th>2</th>\n",
       "      <td>900</td>\n",
       "      <td>Female</td>\n",
       "      <td>M</td>\n",
       "      <td>1</td>\n",
       "      <td>64.64</td>\n",
       "      <td>Active</td>\n",
       "      <td>No</td>\n",
       "      <td>Excellent response dealing with child seat.</td>\n",
       "      <td>1</td>\n",
       "      <td>Service: Accessibility</td>\n",
       "      <td>NaN</td>\n",
       "    </tr>\n",
       "    <tr>\n",
       "      <th>3</th>\n",
       "      <td>3795</td>\n",
       "      <td>Male</td>\n",
       "      <td>M</td>\n",
       "      <td>0</td>\n",
       "      <td>46.51</td>\n",
       "      <td>Inactive</td>\n",
       "      <td>No</td>\n",
       "      <td>all went quite smoothly... it was Enterprise, ...</td>\n",
       "      <td>1</td>\n",
       "      <td>Service: Accessibility</td>\n",
       "      <td>NaN</td>\n",
       "    </tr>\n",
       "    <tr>\n",
       "      <th>4</th>\n",
       "      <td>3541</td>\n",
       "      <td>Male</td>\n",
       "      <td>S</td>\n",
       "      <td>1</td>\n",
       "      <td>17.01</td>\n",
       "      <td>Inactive</td>\n",
       "      <td>Yes</td>\n",
       "      <td>Slow, long lineup</td>\n",
       "      <td>0</td>\n",
       "      <td>Product: Functioning</td>\n",
       "      <td>On-demand pickup location</td>\n",
       "    </tr>\n",
       "  </tbody>\n",
       "</table>\n",
       "</div>"
      ],
      "text/plain": [
       "     ID  Gender Status  Children    Age Customer_Status Car_Owner  \\\n",
       "0  2771  Female      M         2  49.99        Inactive        No   \n",
       "1  1133    Male      S         1  56.05        Inactive        No   \n",
       "2   900  Female      M         1  64.64          Active        No   \n",
       "3  3795    Male      M         0  46.51        Inactive        No   \n",
       "4  3541    Male      S         1  17.01        Inactive       Yes   \n",
       "\n",
       "                                    Customer_Service  Satisfaction  \\\n",
       "0  last time I rented a car was at Manchester, NH...             0   \n",
       "1                           Please lower the prices.             0   \n",
       "2        Excellent response dealing with child seat.             1   \n",
       "3  all went quite smoothly... it was Enterprise, ...             1   \n",
       "4                                  Slow, long lineup             0   \n",
       "\n",
       "                  Business_Area                     Action  \n",
       "0          Product: Functioning  On-demand pickup location  \n",
       "1  Product: Pricing and Billing               Free Upgrade  \n",
       "2        Service: Accessibility                        NaN  \n",
       "3        Service: Accessibility                        NaN  \n",
       "4          Product: Functioning  On-demand pickup location  "
      ]
     },
     "execution_count": 7,
     "metadata": {},
     "output_type": "execute_result"
    }
   ],
   "source": [
    "test_data.head()"
   ]
  },
  {
   "cell_type": "markdown",
   "metadata": {},
   "source": [
    "<a id=\"models\"></a>\n",
    "## Foundation Models on Watsonx"
   ]
  },
  {
   "cell_type": "markdown",
   "metadata": {},
   "source": [
    "\n",
    "\n",
    "Below code invokes Watson Machine Learning API to invoke Watsonx.ai LLMs\n"
   ]
  },
  {
   "cell_type": "code",
   "execution_count": 8,
   "metadata": {},
   "outputs": [],
   "source": [
    "import requests\n",
    "\n",
    "class Prompt:\n",
    "    def __init__(self, access_token, project_id):\n",
    "        self.access_token = access_token\n",
    "        self.project_id = project_id\n",
    "\n",
    "    def generate(self, input, model_id, parameters):\n",
    "        wml_url = \"https://us-south.ml.cloud.ibm.com/ml/v1-beta/generation/text?version=2023-05-28\"\n",
    "        Headers = {\n",
    "            \"Authorization\": \"Bearer \" + self.access_token,\n",
    "            \"Content-Type\": \"application/json\",\n",
    "            \"Accept\": \"application/json\"\n",
    "        }\n",
    "        data = {\n",
    "            \"model_id\": model_id,\n",
    "            \"input\": input,\n",
    "            \"parameters\": parameters,\n",
    "            \"project_id\": self.project_id\n",
    "        }\n",
    "        response = requests.post(wml_url, json=data, headers=Headers)\n",
    "        if response.status_code == 200:\n",
    "            return response.json()[\"results\"][0][\"generated_text\"]\n",
    "        else:\n",
    "            return response.text"
   ]
  },
  {
   "cell_type": "markdown",
   "metadata": {},
   "source": [
    "<a id=\"predict\"></a>\n",
    "## Evaluate the model, prompt and parameters"
   ]
  },
  {
   "cell_type": "markdown",
   "metadata": {},
   "source": [
    "### **1. Customer satisfaction**"
   ]
  },
  {
   "cell_type": "markdown",
   "metadata": {},
   "source": [
    "Define instructions for the model to recognize if customer was satisfied or unsatisfied.\n",
    "\n",
    "**Note:** Please **start with using [watsonx.ai Prompt Lab](https://dataplatform.cloud.ibm.com/wx/home?context=wx)** to find better prompts that provides you the best result on a small subset training records (under `train_data` variable). Make sure to not run an inference of all of `train_data`, as it'll take a long time to get the results. To get a sample from `train_data`, you can use e.g.`train_data.head(n=10)` to get first 10 records, or `train_data.sample(n=10)` to get random 10 records. Only once you have identified the best performing prompt, update this notebook to use the prompt and compute the metrics on the test data.\n",
    "\n",
    "**Action:** Please edit the below cell and add your own prompt here. In the below prompt, we have the instruction (first sentence) and one example included in the prompt.  If you want to change the prompt or add your own examples or more examples, please change the below prompt accordingly."
   ]
  },
  {
   "cell_type": "code",
   "execution_count": 25,
   "metadata": {},
   "outputs": [],
   "source": [
    "satisfaction_instruction = \"\"\"\n",
    "\n",
    "You are a sentiment analysis expert. Analyze the following customer feedback and determine if the customer is satisfied or unsatisfied. Output 0, if the customer is unsatisfied and 1 if the customer is satisfied. Consider the context, tone, and any nuanced expressions. Here are some examples to guide you:\n",
    "\n",
    "Customer service was friendly and helpful.\n",
    "\n",
    "1\n",
    "\n",
    "Customer service was good at MSP airport and the process was very fast.  From getting off of the plane to leaving with my rental car was less than 45 minutes.\n",
    "\n",
    "1\n",
    "\n",
    "I do not  understand why I have to pay additional fee if vehicle is returned without a full tank.\n",
    "\n",
    "0\n",
    "\n",
    "Based on the customer service personnel I encountered most recently, I would say it is vastly preferable for the personnel to be able to at least pretend to care whether the customer ever actually receives a car rental that was reserved months in advance.\n",
    "\n",
    "0\n",
    "\n",
    "Provide more convenient car pickup from the airport parking.\n",
    "\n",
    "0\n",
    "\n",
    "all went quite without hassle, they picked me up to get the car it was great.\n",
    "\n",
    "1\n",
    "\n",
    "We got our car very quickly.\n",
    "\n",
    "1\n",
    "\n",
    "they should not try so hard to up sell\n",
    "\n",
    "0\n",
    "\n",
    "They were friendly and helpful enough.\n",
    "\n",
    "1\n",
    "\n",
    "The customer service people were very nice.  During my vacation I locked my keys in the car.  The rental company sent someone out with a new set of keys to unlock the car.\n",
    "\n",
    "1\n",
    "\n",
    "\"\"\""
   ]
  },
  {
   "cell_type": "markdown",
   "metadata": {},
   "source": [
    "### Defining the model parameters\n",
    "We need to provide a set of model parameters that will influence the result. We will use IBM's Granite model."
   ]
  },
  {
   "cell_type": "code",
   "execution_count": 31,
   "metadata": {},
   "outputs": [],
   "source": [
    "parameters = {\n",
    "    \"decoding_method\": \"greedy\",\"\"\n",
    "    \"max_new_tokens\": 10,\n",
    "    \"min_new_tokens\": 1,\n",
    "    \"repetition_penalty\": 1\n",
    "}\n",
    "\n",
    "model_id = \"ibm/granite-13b-instruct-v2\""
   ]
  },
  {
   "cell_type": "markdown",
   "metadata": {},
   "source": [
    "Analyze the customer satisfaction for inputs from the test set.\n",
    "\n",
    "**Note:** Execution of this cell could take several minutes."
   ]
  },
  {
   "cell_type": "code",
   "execution_count": 32,
   "metadata": {},
   "outputs": [],
   "source": [
    "results = []\n",
    "prompt = Prompt(access_token, project_id)\n",
    "comments = list(test_data.Customer_Service)\n",
    "satisfaction = list(test_data.Satisfaction.astype(str))\n",
    "\n",
    "for input_text in comments:\n",
    "    prompt_input = satisfaction_instruction + \"\\n\" + input_text + \"\\n\"\n",
    "    results.append(prompt.generate(prompt_input, model_id, parameters).replace(\"\\n\",\"\"))"
   ]
  },
  {
   "cell_type": "markdown",
   "metadata": {},
   "source": [
    "### Calculate the F1 micro score"
   ]
  },
  {
   "cell_type": "code",
   "execution_count": 33,
   "metadata": {},
   "outputs": [
    {
     "data": {
      "text/plain": [
       "['0',\n",
       " '0',\n",
       " '1',\n",
       " '1',\n",
       " '0',\n",
       " '0',\n",
       " '1',\n",
       " '0',\n",
       " '1',\n",
       " '1',\n",
       " '1',\n",
       " '1',\n",
       " '0',\n",
       " '1',\n",
       " '1',\n",
       " '0',\n",
       " '0',\n",
       " '0',\n",
       " '0',\n",
       " '1',\n",
       " '1',\n",
       " '1',\n",
       " '0',\n",
       " '1',\n",
       " '1',\n",
       " '1',\n",
       " '1',\n",
       " '0',\n",
       " '1',\n",
       " '1',\n",
       " '0',\n",
       " '0',\n",
       " '1',\n",
       " '0',\n",
       " '0',\n",
       " '0',\n",
       " '1',\n",
       " '0',\n",
       " '0',\n",
       " '1',\n",
       " '1',\n",
       " '0',\n",
       " '1',\n",
       " '0',\n",
       " '0',\n",
       " '1',\n",
       " '1',\n",
       " '1',\n",
       " '1',\n",
       " '1']"
      ]
     },
     "execution_count": 33,
     "metadata": {},
     "output_type": "execute_result"
    }
   ],
   "source": [
    "results"
   ]
  },
  {
   "cell_type": "code",
   "execution_count": 35,
   "metadata": {},
   "outputs": [
    {
     "name": "stdout",
     "output_type": "stream",
     "text": [
      "Sentiment analysis f1_micro_score 0.92\n"
     ]
    }
   ],
   "source": [
    "from sklearn.metrics import f1_score\n",
    "\n",
    "print('Sentiment analysis f1_micro_score', f1_score(satisfaction, results, average='micro'))"
   ]
  },
  {
   "cell_type": "markdown",
   "metadata": {},
   "source": [
    "### **2. Offer Recommendation**"
   ]
  },
  {
   "cell_type": "markdown",
   "metadata": {},
   "source": [
    "Define instructions for the model to recommend best offer to an unsatisfied customer.\n",
    "\n",
    "**Note:** Please **start with using [watsonx.ai Prompt Lab](https://dataplatform.cloud.ibm.com/wx/home?context=wx)** to find better prompts that provides you the best result on a small subset training records (under `train_data` variable). Make sure to not run an inference of all of `train_data`, as it'll take a long time to get the results. To get a sample from `train_data`, you can use e.g.`train_data.head(n=10)` to get first 10 records, or `train_data.sample(n=10)` to get random 10 records. Only once you have identified the best performing prompt, update this notebook to use the prompt and compute the metrics on the test data.\n",
    "\n",
    "**Action:** Please edit the below cell and add your own prompt here. In the below prompt, we have the instruction (first sentence) and one example included in the prompt.  If you want to change the prompt or add your own examples or more examples, please change the below prompt accordingly."
   ]
  },
  {
   "cell_type": "code",
   "execution_count": 108,
   "metadata": {},
   "outputs": [
    {
     "name": "stdout",
     "output_type": "stream",
     "text": [
      "I do not  understand why I have to pay additional fee if vehicle is returned without a full tank.\n",
      "Premium features\n",
      "\n",
      "Based on the customer service personnel I encountered most recently, I would say it is vastly preferable for the personnel to be able to at least pretend to care whether the customer ever actually receives a car rental that was reserved months in advance.\n",
      "On-demand pickup location\n",
      "\n",
      "Provide more convenient car pickup from the airport parking.\n",
      "On-demand pickup location\n",
      "\n",
      "VERY slow service!\n",
      "Free Upgrade\n",
      "\n",
      "They could really try work harder.\n",
      "Free Upgrade\n",
      "\n",
      "I would like the personnel to pretend they care about customer, at least.\n",
      "On-demand pickup location\n",
      "\n",
      "The customer service agent was helpful, but I find that providing all of the information to the agent takes too long.  It would be nice if I could provide all of the information to the agent prior to coming the rental place.\n",
      "On-demand pickup location\n",
      "\n",
      "I had to wait in line for a long time to get and return the vehicle.  Also, the car was not clean.\n",
      "Voucher\n",
      "\n",
      "It was absolutely ATROCIOUS! My wife and I were in a foreign country  when we realized that our car had an expired license plate and expired proof of insurance!\n",
      "Voucher\n",
      "\n",
      "they should not try so hard to up sell\n",
      "Free Upgrade\n",
      "\n",
      "long lines waiting for the rental pick.\n",
      "On-demand pickup location\n",
      "\n",
      "what customer service? It was a nightmare\n",
      "Voucher\n",
      "\n",
      "\"sorely lacking\"  helpdesk was not much helpfull\n",
      "Voucher\n",
      "\n",
      "delayed shuttle, almost missed flight, bad customer service\n",
      "Free Upgrade\n",
      "\n",
      "I would like the reps be knowledgeable about the immediate area around the rental agency and or have maps for the area available free of charge.\n",
      "Premium features\n",
      "\n",
      "Did not have some problems. My car was not ready on time.\n",
      "Free Upgrade\n",
      "\n",
      "Initially the representative handled the situation badly.  No car was available, even next day.  Then the rep helped to find us a car in another agency.\n",
      "Free Upgrade\n",
      "\n",
      "It would be nice if they included maps to the airport drop off with the car, last time we got lost returning the car and almost missed the flight.  There was nothing on the exit that indicated rental returns.  Actually the one I really liked, was when we\n",
      "Premium features\n",
      "\n",
      "States have different rules and regulations pertaining to speed, radar detectors, even when light should be on.  Customer services reps should have a handout or be knowledgeable of a particular state's laws.\n",
      "Premium features\n",
      "\n",
      "price too high and location off premise too far\n",
      "On-demand pickup location\n",
      "\n",
      "The company was overwhelmed by the number of customers verse the number of available agents and they were not articulating their situation to the customers well enough. I think we waited for almost 3 hours just to get a rental car. It was ridiculous.\n",
      "On-demand pickup location\n",
      "\n",
      "Even economy class cars are too expensive.\n",
      "On-demand pickup location\n",
      "\n",
      "customer service was great until we returned the car.  I experienced an issue with damage to the car, and felt that things were left unanswered and still waiting for a response from them.\n",
      "Premium features\n",
      "\n",
      "I have had a few recent rentals that have taken a very very long time, with no offer of apology.  In the most recent case, the agent subsequently offered me a car type on an upgrade coupon and then told me it was no longer available because it had just be\n",
      "Voucher\n",
      "\n",
      "price TOO HIGH and off premise location is NOT convenient.\n",
      "On-demand pickup location\n",
      "\n",
      "Having knowledgeable personnel is very important\n",
      "Voucher\n",
      "\n",
      "friendly, but could not making any decisions on own\n",
      "Premium features\n",
      "\n",
      "it seems that they never have the class of car that I ordered.  also, the last time I got there earlier than I thought and they wouldn't let me have the car until the time that I had requested it because their computer wouldn't allow it.\n",
      "Free Upgrade\n",
      "\n",
      "They were too pushy in trying to sell insurance.\n",
      "Free Upgrade\n",
      "\n",
      "Customer Service at Alamo was RUDE. We waited in line for over an hour to get our car. Car was bad. Had to change it few days later. Another family traveling with us was upgraded to a larger car as they were out of the type of car booked.\n",
      "Free Upgrade\n",
      "\n",
      "They were idiots.  The car had problems and they were unable to fix them or provide a replacement without a lot of hassle.\n",
      "Free Upgrade\n",
      "\n",
      "I had to pay more because of some hidden fees. It disappointed me.\n",
      "Free Upgrade\n",
      "\n",
      "they could not provide driving directions\n",
      "Premium features\n",
      "\n",
      "I thought that they were very short and not very friendly. I felt like they hated their job and could care less about the customer.\n",
      "Voucher\n",
      "\n",
      "The car should have been brought to us instead of us trying to find it in the lot.\n",
      "On-demand pickup location\n",
      "\n",
      "They did not have the car I wanted.  upgraded me to a car I did not like and did not want.\n",
      "Free Upgrade\n",
      "\n",
      "Had problems with windshield wipers that affected usability.  Problem was not solved.  Customer service was NOT helpful. Because of franchising, I was not able to get help from an office other than the one I rented from.  I had driven 60 miles from that location and there was another location 2 miles from where I was staying.\n",
      "Free Upgrade\n",
      "\n",
      "You need more staff to accommodate travelers who are in a hurry. Specifically, cut down the wait time to either retrieve or turn in a rental car.\n",
      "On-demand pickup location\n",
      "\n",
      "The only unpleasant aspects of interacting with personnel from the company was having to wait in a long line since most windows were closed. Also, they tried really hard to sell additional insurance coverage which was obnoxious.\n",
      "Free Upgrade\n",
      "\n",
      "they were a little slow\n",
      "Premium features\n",
      "\n",
      "Please back to lower the prices.\n",
      "Free Upgrade\n",
      "\n"
     ]
    }
   ],
   "source": [
    "for i, row in train_data.loc[train_data[\"Satisfaction\"] == 0][[\"Customer_Service\",\"Action\"]].iterrows():\n",
    "    print(row[\"Customer_Service\"])\n",
    "    print(row[\"Action\"])\n",
    "    print()"
   ]
  },
  {
   "cell_type": "code",
   "execution_count": 136,
   "metadata": {},
   "outputs": [],
   "source": [
    "offer_recommendation_instruction = \"\"\"You are a customer service assistant designed to enhance customer satisfaction. Your task is to classify customer feedback and recommend the most appropriate offer to address their dissatisfaction. The available offers are \"On-demand pickup location\", \"Free Upgrade\", \"Voucher\", and \"Premium features\". Output only one of these options and nothing else.\n",
    "Classification Hints:\n",
    "\n",
    "    On-demand pickup location: Select this if the feedback mentions issues with delivery location, convenience, or the need for flexible pickup options.\n",
    "    Free Upgrade: Select this if the feedback highlights problems with the quality, condition, or availability of the product/service.\n",
    "    Voucher: Select this if the feedback focuses on pricing issues or expresses dissatisfaction with the cost relative to value.\n",
    "    Premium features: Select this if the feedback includes unresolved issues, ongoing problems, or dissatisfaction with the support experience.\n",
    "\n",
    "Examples:\n",
    "\n",
    "Customer Feedback: \"I do not understand why I have to pay an additional fee if the vehicle is returned without a full tank.\"\n",
    "Best Offer: Premium features\n",
    "\n",
    "Customer Feedback: \"Based on the customer service personnel I encountered most recently, I would say it is vastly preferable for the personnel to be able to at least pretend to care whether the customer ever actually receives a car rental that was reserved months in advance.\"\n",
    "Best Offer: On-demand pickup location\n",
    "\n",
    "Customer Feedback: \"Provide more convenient car pickup from the airport parking.\"\n",
    "Best Offer: On-demand pickup location\n",
    "\n",
    "Customer Feedback: \"VERY slow service!\"\n",
    "Best Offer: Free Upgrade\n",
    "\n",
    "Customer Feedback: \"They could really try work harder.\"\n",
    "Best Offer: Free Upgrade\n",
    "\n",
    "Customer Feedback: \"I would like the personnel to pretend they care about customer, at least.\"\n",
    "Best Offer: On-demand pickup location\n",
    "\n",
    "Customer Feedback: \"The customer service agent was helpful, but I find that providing all of the information to the agent takes too long. It would be nice if I could provide all of the information to the agent prior to coming the rental place.\"\n",
    "Best Offer: On-demand pickup location\n",
    "\n",
    "Customer Feedback: \"I had to wait in line for a long time to get and return the vehicle. Also, the car was not clean.\"\n",
    "Best Offer: Voucher\n",
    "\n",
    "Customer Feedback: \"It was absolutely ATROCIOUS! My wife and I were in a foreign country when we realized that our car had an expired license plate and expired proof of insurance!\"\n",
    "Best Offer: Voucher\n",
    "\n",
    "Customer Feedback: \"They should not try so hard to up sell.\"\n",
    "Best Offer: Free Upgrade\n",
    "\n",
    "Customer Feedback: \"Long lines waiting for the rental pick.\"\n",
    "Best Offer: On-demand pickup location\n",
    "\n",
    "Customer Feedback: \"What customer service? It was a nightmare.\"\n",
    "Best Offer: Voucher\n",
    "\n",
    "Customer Feedback: \"Sorely lacking helpdesk was not much helpful.\"\n",
    "Best Offer: Voucher\n",
    "\n",
    "Customer Feedback: \"Delayed shuttle, almost missed flight, bad customer service.\"\n",
    "Best Offer: Free Upgrade\n",
    "\n",
    "Customer Feedback: \"I would like the reps be knowledgeable about the immediate area around the rental agency and or have maps for the area available free of charge.\"\n",
    "Best Offer: Premium features\n",
    "\n",
    "Customer Feedback: \"Did not have some problems. My car was not ready on time.\"\n",
    "Best Offer: Free Upgrade\n",
    "\n",
    "Customer Feedback: \"Initially the representative handled the situation badly. No car was available, even next day. Then the rep helped to find us a car in another agency.\"\n",
    "Best Offer: Free Upgrade\n",
    "\n",
    "Customer Feedback: \"It would be nice if they included maps to the airport drop off with the car, last time we got lost returning the car and almost missed the flight. There was nothing on the exit that indicated rental returns.\"\n",
    "Best Offer: Premium features\n",
    "\n",
    "Customer Feedback: \"States have different rules and regulations pertaining to speed, radar detectors, even when light should be on. Customer services reps should have a handout or be knowledgeable of a particular state's laws.\"\n",
    "Best Offer: Premium features\n",
    "\n",
    "Customer Feedback: \"Price too high and location off premise too far.\"\n",
    "Best Offer: On-demand pickup location\n",
    "\n",
    "Customer Feedback: \"The company was overwhelmed by the number of customers versus the number of available agents and they were not articulating their situation to the customers well enough. I think we waited for almost 3 hours just to get a rental car. It was ridiculous.\"\n",
    "Best Offer: On-demand pickup location\n",
    "\n",
    "Customer Feedback: \"Even economy class cars are too expensive.\"\n",
    "Best Offer: On-demand pickup location\n",
    "\n",
    "Customer Feedback: \"Customer service was great until we returned the car. I experienced an issue with damage to the car, and felt that things were left unanswered and still waiting for a response from them.\"\n",
    "Best Offer: Premium features\n",
    "\n",
    "Customer Feedback: \"I have had a few recent rentals that have taken a very very long time, with no offer of apology. In the most recent case, the agent subsequently offered me a car type on an upgrade coupon and then told me it was no longer available because it had just been taken.\"\n",
    "Best Offer: Voucher\n",
    "\n",
    "Customer Feedback: \"Price TOO HIGH and off premise location is NOT convenient.\"\n",
    "Best Offer: On-demand pickup location\n",
    "\n",
    "Customer Feedback: \"Having knowledgeable personnel is very important.\"\n",
    "Best Offer: Voucher\n",
    "\n",
    "Customer Feedback: \"Friendly, but could not make any decisions on their own.\"\n",
    "Best Offer: Premium features\n",
    "\n",
    "Customer Feedback: \"It seems that they never have the class of car that I ordered. Also, the last time I got there earlier than I thought and they wouldn't let me have the car until the time that I had requested it because their computer wouldn't allow it.\"\n",
    "Best Offer: Free Upgrade\n",
    "\n",
    "Customer Feedback: \"They were too pushy in trying to sell insurance.\"\n",
    "Best Offer: Free Upgrade\n",
    "\n",
    "Customer Feedback: \"Customer Service at Alamo was RUDE. We waited in line for over an hour to get our car. Car was bad. Had to change it a few days later. Another family traveling with us was upgraded to a larger car as they were out of the type of car booked.\"\n",
    "Best Offer: Free Upgrade\n",
    "\n",
    "Customer Feedback: \"They were idiots. The car had problems and they were unable to fix them or provide a replacement without a lot of hassle.\"\n",
    "Best Offer: Free Upgrade\n",
    "\n",
    "Customer Feedback: \"I had to pay more because of some hidden fees. It disappointed me.\"\n",
    "Best Offer: Free Upgrade\n",
    "\n",
    "Customer Feedback: \"They could not provide driving directions.\"\n",
    "Best Offer: Premium features\n",
    "\n",
    "Customer Feedback: \"I thought that they were very short and not very friendly. I felt like they hated their job and could care less about the customer.\"\n",
    "Best Offer: Voucher\n",
    "\n",
    "Customer Feedback: \"The car should have been brought to us instead of us trying to find it in the lot.\"\n",
    "Best Offer: On-demand pickup location\n",
    "\n",
    "Customer Feedback: \"They did not have the car I wanted. They upgraded me to a car I did not like and did not want.\"\n",
    "Best Offer: Free Upgrade\n",
    "\n",
    "Customer Feedback: \"Had problems with windshield wipers that affected usability. Problem was not solved. Customer service was NOT helpful. Because of franchising, I was not able to get help from an office other than the one I rented from. I had driven 60 miles from that location and there was another location 2 miles from where I was staying.\"\n",
    "Best Offer: Free Upgrade\n",
    "\n",
    "Customer Feedback: \"You need more staff to accommodate travelers who are in a hurry. Specifically, cut down the wait time to either retrieve or turn in a rental car.\"\n",
    "Best Offer: On-demand pickup location\n",
    "\n",
    "Customer Feedback: \"The only unpleasant aspects of interacting with personnel from the company was having to wait in a long line since most windows were closed. Also, they tried really hard to sell additional insurance coverage which was obnoxious.\"\n",
    "Best Offer: Free Upgrade\n",
    "\n",
    "Customer Feedback: \"They were a little slow.\"\n",
    "Best Offer: Premium features\n",
    "\n",
    "Customer Feedback: \"Please back to lower the prices.\"\n",
    "Best Offer: Free Upgrade\n",
    "\n",
    "\n",
    "Now it's your turn:\n",
    "\n",
    "Customer Feedback:\"\"\""
   ]
  },
  {
   "cell_type": "markdown",
   "metadata": {},
   "source": [
    "### Defining the model parameters\n",
    "We need to provide a set of model parameters that will influence the result. We will use IBM's Granite model."
   ]
  },
  {
   "cell_type": "code",
   "execution_count": 120,
   "metadata": {},
   "outputs": [],
   "source": [
    "parameters = {\n",
    "    \"decoding_method\": \"greedy\",\n",
    "    \"max_new_tokens\": 8,\n",
    "    \"min_new_tokens\": 1,\n",
    "    \"stop_sequences\": [\"Premium features\",\"On-demand pickup location\",\"Free Upgrade\",\"Voucher\"],\n",
    "    \"repetition_penalty\": 1\n",
    "}\n",
    "\n",
    "model_id = \"ibm/granite-13b-instruct-v2\""
   ]
  },
  {
   "cell_type": "markdown",
   "metadata": {},
   "source": [
    "Filter test data for unsatisfied customer"
   ]
  },
  {
   "cell_type": "code",
   "execution_count": 58,
   "metadata": {},
   "outputs": [
    {
     "data": {
      "text/html": [
       "<div>\n",
       "<style scoped>\n",
       "    .dataframe tbody tr th:only-of-type {\n",
       "        vertical-align: middle;\n",
       "    }\n",
       "\n",
       "    .dataframe tbody tr th {\n",
       "        vertical-align: top;\n",
       "    }\n",
       "\n",
       "    .dataframe thead th {\n",
       "        text-align: right;\n",
       "    }\n",
       "</style>\n",
       "<table border=\"1\" class=\"dataframe\">\n",
       "  <thead>\n",
       "    <tr style=\"text-align: right;\">\n",
       "      <th></th>\n",
       "      <th>ID</th>\n",
       "      <th>Gender</th>\n",
       "      <th>Status</th>\n",
       "      <th>Children</th>\n",
       "      <th>Age</th>\n",
       "      <th>Customer_Status</th>\n",
       "      <th>Car_Owner</th>\n",
       "      <th>Customer_Service</th>\n",
       "      <th>Satisfaction</th>\n",
       "      <th>Business_Area</th>\n",
       "      <th>Action</th>\n",
       "    </tr>\n",
       "  </thead>\n",
       "  <tbody>\n",
       "    <tr>\n",
       "      <th>0</th>\n",
       "      <td>2771</td>\n",
       "      <td>Female</td>\n",
       "      <td>M</td>\n",
       "      <td>2</td>\n",
       "      <td>49.99</td>\n",
       "      <td>Inactive</td>\n",
       "      <td>No</td>\n",
       "      <td>last time I rented a car was at Manchester, NH...</td>\n",
       "      <td>0</td>\n",
       "      <td>Product: Functioning</td>\n",
       "      <td>On-demand pickup location</td>\n",
       "    </tr>\n",
       "    <tr>\n",
       "      <th>1</th>\n",
       "      <td>1133</td>\n",
       "      <td>Male</td>\n",
       "      <td>S</td>\n",
       "      <td>1</td>\n",
       "      <td>56.05</td>\n",
       "      <td>Inactive</td>\n",
       "      <td>No</td>\n",
       "      <td>Please lower the prices.</td>\n",
       "      <td>0</td>\n",
       "      <td>Product: Pricing and Billing</td>\n",
       "      <td>Free Upgrade</td>\n",
       "    </tr>\n",
       "    <tr>\n",
       "      <th>4</th>\n",
       "      <td>3541</td>\n",
       "      <td>Male</td>\n",
       "      <td>S</td>\n",
       "      <td>1</td>\n",
       "      <td>17.01</td>\n",
       "      <td>Inactive</td>\n",
       "      <td>Yes</td>\n",
       "      <td>Slow, long lineup</td>\n",
       "      <td>0</td>\n",
       "      <td>Product: Functioning</td>\n",
       "      <td>On-demand pickup location</td>\n",
       "    </tr>\n",
       "    <tr>\n",
       "      <th>5</th>\n",
       "      <td>2608</td>\n",
       "      <td>Female</td>\n",
       "      <td>S</td>\n",
       "      <td>0</td>\n",
       "      <td>32.02</td>\n",
       "      <td>Active</td>\n",
       "      <td>No</td>\n",
       "      <td>Customer is important for the enjoyment of the...</td>\n",
       "      <td>0</td>\n",
       "      <td>Product: Functioning</td>\n",
       "      <td>Voucher</td>\n",
       "    </tr>\n",
       "    <tr>\n",
       "      <th>7</th>\n",
       "      <td>3382</td>\n",
       "      <td>Male</td>\n",
       "      <td>M</td>\n",
       "      <td>1</td>\n",
       "      <td>52.15</td>\n",
       "      <td>Inactive</td>\n",
       "      <td>No</td>\n",
       "      <td>They should upgrade me every time.</td>\n",
       "      <td>0</td>\n",
       "      <td>Service: Knowledge</td>\n",
       "      <td>Free Upgrade</td>\n",
       "    </tr>\n",
       "  </tbody>\n",
       "</table>\n",
       "</div>"
      ],
      "text/plain": [
       "     ID  Gender Status  Children    Age Customer_Status Car_Owner  \\\n",
       "0  2771  Female      M         2  49.99        Inactive        No   \n",
       "1  1133    Male      S         1  56.05        Inactive        No   \n",
       "4  3541    Male      S         1  17.01        Inactive       Yes   \n",
       "5  2608  Female      S         0  32.02          Active        No   \n",
       "7  3382    Male      M         1  52.15        Inactive        No   \n",
       "\n",
       "                                    Customer_Service  Satisfaction  \\\n",
       "0  last time I rented a car was at Manchester, NH...             0   \n",
       "1                           Please lower the prices.             0   \n",
       "4                                  Slow, long lineup             0   \n",
       "5  Customer is important for the enjoyment of the...             0   \n",
       "7                 They should upgrade me every time.             0   \n",
       "\n",
       "                  Business_Area                     Action  \n",
       "0          Product: Functioning  On-demand pickup location  \n",
       "1  Product: Pricing and Billing               Free Upgrade  \n",
       "4          Product: Functioning  On-demand pickup location  \n",
       "5          Product: Functioning                    Voucher  \n",
       "7            Service: Knowledge               Free Upgrade  "
      ]
     },
     "execution_count": 58,
     "metadata": {},
     "output_type": "execute_result"
    }
   ],
   "source": [
    "unsatisfied_test_data = test_data.loc[test_data['Satisfaction'] == 0]\n",
    "unsatisfied_test_data.head()"
   ]
  },
  {
   "cell_type": "markdown",
   "metadata": {},
   "source": [
    "Analyze the recommended actions for inputs from the test set.\n",
    "\n",
    "**Note:** Execution of this cell could take several minutes."
   ]
  },
  {
   "cell_type": "code",
   "execution_count": 137,
   "metadata": {},
   "outputs": [
    {
     "name": "stdout",
     "output_type": "stream",
     "text": [
      "On-demand pickup location\n",
      "Free Upgrade\n",
      "Premium features\n",
      "Premium features\n",
      "Premium features\n",
      "Premium features\n",
      "Voucher\n",
      "Free Upgrade\n",
      "Premium features\n",
      "Voucher\n",
      "Premium features\n",
      "Premium features\n",
      "Voucher\n",
      "Premium features\n",
      "Premium features\n",
      "Premium features\n",
      "On-demand pickup location\n",
      "Premium features\n"
     ]
    }
   ],
   "source": [
    "results = []\n",
    "prompt = Prompt(access_token, project_id)\n",
    "comments = list(unsatisfied_test_data.Customer_Service)\n",
    "offer_recommended = list(unsatisfied_test_data.Action.astype(str))\n",
    "\n",
    "for input_text in comments:\n",
    "    #print(input_text)\n",
    "    input_text = input_text + '\\n'\n",
    "    res = prompt.generate(\"\".join([offer_recommendation_instruction, \" \", input_text, \"Best Offer: \"]), model_id, parameters).replace(\"\\n\", \"\")\n",
    "    print(res)\n",
    "    results.append(res)"
   ]
  },
  {
   "cell_type": "code",
   "execution_count": 138,
   "metadata": {},
   "outputs": [
    {
     "data": {
      "text/plain": [
       "['On-demand pickup location',\n",
       " 'Free Upgrade',\n",
       " 'Premium features',\n",
       " 'Premium features',\n",
       " 'Premium features',\n",
       " 'Premium features',\n",
       " 'Voucher',\n",
       " 'Free Upgrade',\n",
       " 'Premium features',\n",
       " 'Voucher',\n",
       " 'Premium features',\n",
       " 'Premium features',\n",
       " 'Voucher',\n",
       " 'Premium features',\n",
       " 'Premium features',\n",
       " 'Premium features',\n",
       " 'On-demand pickup location',\n",
       " 'Premium features']"
      ]
     },
     "execution_count": 138,
     "metadata": {},
     "output_type": "execute_result"
    }
   ],
   "source": [
    "results"
   ]
  },
  {
   "cell_type": "markdown",
   "metadata": {},
   "source": [
    "### Calculate the F1 micro score"
   ]
  },
  {
   "cell_type": "code",
   "execution_count": 140,
   "metadata": {},
   "outputs": [
    {
     "name": "stdout",
     "output_type": "stream",
     "text": [
      "Offer recommendation f1_micro_score 0.4444444444444444\n"
     ]
    }
   ],
   "source": [
    "from sklearn.metrics import f1_score\n",
    "\n",
    "print('Offer recommendation f1_micro_score', f1_score(offer_recommended, results, average='micro'))"
   ]
  },
  {
   "cell_type": "markdown",
   "metadata": {},
   "source": [
    "---"
   ]
  },
  {
   "cell_type": "markdown",
   "metadata": {},
   "source": [
    "Copyright © 2024 IBM. This notebook and its source code are released under the terms of the MIT License."
   ]
  }
 ],
 "metadata": {
  "kernelspec": {
   "display_name": "Python 3 (ipykernel)",
   "language": "python",
   "name": "python3"
  },
  "language_info": {
   "codemirror_mode": {
    "name": "ipython",
    "version": 3
   },
   "file_extension": ".py",
   "mimetype": "text/x-python",
   "name": "python",
   "nbconvert_exporter": "python",
   "pygments_lexer": "ipython3",
   "version": "3.10.12"
  }
 },
 "nbformat": 4,
 "nbformat_minor": 4
}
